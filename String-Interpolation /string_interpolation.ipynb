{
  "cells": [
    {
      "cell_type": "markdown",
      "metadata": {
        "id": "BpJt3yyAmj5B"
      },
      "source": []
    },
    {
      "cell_type": "code",
      "execution_count": 1,
      "metadata": {
        "id": "Nsa9PxXzK-2H"
      },
      "outputs": [],
      "source": [
        "# Print out each letter of the alphabet with its ordinal position"
      ]
    },
    {
      "cell_type": "code",
      "execution_count": null,
      "metadata": {
        "id": "30OmIhUHnrxA"
      },
      "outputs": [],
      "source": [
        "import numpy as np\n",
        "import string"
      ]
    },
    {
      "cell_type": "code",
      "execution_count": null,
      "metadata": {
        "colab": {
          "base_uri": "https://localhost:8080/"
        },
        "id": "25LUcZtqvs6V",
        "outputId": "0628968a-c4c2-4800-a496-0847bcb43e4b"
      },
      "outputs": [
        {
          "name": "stdout",
          "output_type": "stream",
          "text": [
            "a is the 1st letter.\n",
            "b is the 2nd letter.\n",
            "c is the 3rd letter.\n",
            "d is the 4th letter.\n",
            "e is the 5th letter.\n",
            "f is the 6th letter.\n",
            "g is the 7th letter.\n",
            "h is the 8th letter.\n",
            "i is the 9th letter.\n",
            "j is the 10th letter.\n",
            "k is the 11th letter.\n",
            "l is the 12th letter.\n",
            "m is the 13th letter.\n",
            "n is the 14th letter.\n",
            "o is the 15th letter.\n",
            "p is the 16th letter.\n",
            "q is the 17th letter.\n",
            "r is the 18th letter.\n",
            "s is the 19th letter.\n",
            "t is the 20th letter.\n",
            "u is the 21st letter.\n",
            "v is the 22nd letter.\n",
            "w is the 23rd letter.\n",
            "x is the 24th letter.\n",
            "y is the 25th letter.\n",
            "z is the 26th letter.\n"
          ]
        }
      ],
      "source": [
        "a = [char for char in string.ascii_lowercase]\n",
        "count = 0\n",
        "var1 = \"st\"\n",
        "var2 = \"nd\"\n",
        "var3 = \"rd\"\n",
        "var4 = \"th\"\n",
        "\n",
        "for i in a:\n",
        "  for j in i:\n",
        "    count += 1\n",
        "\n",
        "    if count == 1 or count == 21 :\n",
        "      n = str(count) + var1\n",
        "\n",
        "    elif count == 2 or count == 22:\n",
        "      n = str(count) + var2\n",
        "\n",
        "    elif count == 3 or count == 23:\n",
        "      n = str(count) + var3\n",
        "\n",
        "    else:\n",
        "      n = str(count) + var4\n",
        "\n",
        "    print(f\"{i} is the {n} letter.\")\n",
        "\n"
      ]
    }
  ],
  "metadata": {
    "colab": {
      "provenance": []
    },
    "kernelspec": {
      "display_name": "Python 3",
      "name": "python3"
    },
    "language_info": {
      "name": "python"
    }
  },
  "nbformat": 4,
  "nbformat_minor": 0
}
