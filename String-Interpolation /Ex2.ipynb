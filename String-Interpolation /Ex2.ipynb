{
  "cells": [
    {
      "cell_type": "code",
      "execution_count": 1,
      "metadata": {
        "id": "Nsa9PxXzK-2H"
      },
      "outputs": [],
      "source": [
        "# Print out each letter of the alphabet with its ordinal position"
      ]
    },
    {
      "cell_type": "code",
      "execution_count": 2,
      "metadata": {
        "id": "30OmIhUHnrxA"
      },
      "outputs": [],
      "source": [
        "import numpy as np\n",
        "import string"
      ]
    },
    {
      "cell_type": "code",
      "execution_count": 40,
      "metadata": {
        "id": "GFib9OmSDDYe"
      },
      "outputs": [],
      "source": [
        "count = 0\n",
        "var1 = \"st\"\n",
        "var2 = \"nd\"\n",
        "var3 = \"rd\"\n",
        "var4 = \"th\""
      ]
    },
    {
      "cell_type": "code",
      "execution_count": 26,
      "metadata": {
        "colab": {
          "base_uri": "https://localhost:8080/",
          "height": 35
        },
        "id": "gbjo5UftBL3q",
        "outputId": "bd0ef65e-808f-487e-dd48-27c6e00c35d8"
      },
      "outputs": [
        {
          "data": {
            "application/vnd.google.colaboratory.intrinsic+json": {
              "type": "string"
            },
            "text/plain": [
              "'abcdefghijklmnopqrstuvwxyz'"
            ]
          },
          "execution_count": 26,
          "metadata": {},
          "output_type": "execute_result"
        }
      ],
      "source": [
        "letters = string.ascii_lowercase\n",
        "letters"
      ]
    },
    {
      "cell_type": "code",
      "execution_count": 45,
      "metadata": {
        "colab": {
          "base_uri": "https://localhost:8080/"
        },
        "id": "8lCaiBrBBeEB",
        "outputId": "f925c4d5-07f5-475b-8b86-982a4ecbd631"
      },
      "outputs": [
        {
          "name": "stdout",
          "output_type": "stream",
          "text": [
            "a is the 1st letter of the alphabet\n",
            "b is the 2nd letter of the alphabet\n",
            "c is the 3rd letter of the alphabet\n",
            "d is the 4th letter of the alphabet\n",
            "e is the 5th letter of the alphabet\n",
            "f is the 6th letter of the alphabet\n",
            "g is the 7th letter of the alphabet\n",
            "h is the 8th letter of the alphabet\n",
            "i is the 9th letter of the alphabet\n",
            "j is the 10th letter of the alphabet\n",
            "k is the 11th letter of the alphabet\n",
            "l is the 12th letter of the alphabet\n",
            "m is the 13th letter of the alphabet\n",
            "n is the 14th letter of the alphabet\n",
            "o is the 15th letter of the alphabet\n",
            "p is the 16th letter of the alphabet\n",
            "q is the 17th letter of the alphabet\n",
            "r is the 18th letter of the alphabet\n",
            "s is the 19th letter of the alphabet\n",
            "t is the 20th letter of the alphabet\n",
            "u is the 21st letter of the alphabet\n",
            "v is the 22nd letter of the alphabet\n",
            "w is the 23rd letter of the alphabet\n",
            "x is the 24th letter of the alphabet\n",
            "y is the 25th letter of the alphabet\n",
            "z is the 26th letter of the alphabet\n"
          ]
        }
      ],
      "source": [
        "for i in range(len(letters)):\n",
        "  if i==0 or i==20:\n",
        "    ordind = var1\n",
        "\n",
        "  elif i==1 or i==21:\n",
        "    ordind = var2\n",
        "\n",
        "  elif i==2 or i==22:\n",
        "    ordind = var3\n",
        "\n",
        "  else:\n",
        "    ordind = var4\n",
        "  print(f\"{letters[i]} is the {i+1}{ordind} letter of the alphabet\")"
      ]
    },
    {
      "cell_type": "code",
      "execution_count": null,
      "metadata": {
        "id": "25LUcZtqvs6V"
      },
      "outputs": [],
      "source": [
        "#Experiment 1 string interpolation \n",
        "a = [char for char in string.ascii_lowercase]\n",
        "\n",
        "for i in a:\n",
        "  for j in i:\n",
        "    count += 1\n",
        "\n",
        "    if count == 1 or count == 21 :\n",
        "      n = str(count) + var1\n",
        "\n",
        "    elif count == 2 or count == 22:\n",
        "      n = str(count) + var2\n",
        "\n",
        "    elif count == 3 or count == 23:\n",
        "      n = str(count) + var3\n",
        "\n",
        "    else:\n",
        "      n = str(count) + var4\n",
        "\n",
        "    print(f\"{i} is the {n} letter.\")\n",
        "\n"
      ]
    }
  ],
  "metadata": {
    "colab": {
      "provenance": []
    },
    "kernelspec": {
      "display_name": "Python 3",
      "name": "python3"
    },
    "language_info": {
      "name": "python"
    }
  },
  "nbformat": 4,
  "nbformat_minor": 0
}
