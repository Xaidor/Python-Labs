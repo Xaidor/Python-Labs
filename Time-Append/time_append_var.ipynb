{
  "nbformat": 4,
  "nbformat_minor": 0,
  "metadata": {
    "colab": {
      "provenance": []
    },
    "kernelspec": {
      "name": "python3",
      "display_name": "Python 3"
    },
    "language_info": {
      "name": "python"
    }
  },
  "cells": [
    {
      "cell_type": "markdown",
      "source": [],
      "metadata": {
        "id": "BpJt3yyAmj5B"
      }
    },
    {
      "cell_type": "code",
      "source": [
        "# Compare 3 methods of creating an array\n",
        "# stores the current time time.perf_counter() and the time of completion"
      ],
      "metadata": {
        "id": "Nsa9PxXzK-2H"
      },
      "execution_count": 1,
      "outputs": []
    },
    {
      "cell_type": "code",
      "source": [
        "import time\n",
        "import numpy as np"
      ],
      "metadata": {
        "id": "w1xsOmuhOfZS"
      },
      "execution_count": 7,
      "outputs": []
    },
    {
      "cell_type": "code",
      "source": [
        "N = 10000\n",
        "toc = [0]*3"
      ],
      "metadata": {
        "id": "ZQuzprvY-5Ax"
      },
      "execution_count": 32,
      "outputs": []
    },
    {
      "cell_type": "code",
      "source": [
        "# list append\n",
        "tic = time.perf_counter()\n",
        "\n",
        "r = []\n",
        "for i in range(N):\n",
        "  r.append(i**2)\n",
        "\n",
        "toc[0] = (time.perf_counter() - tic)*1000\n",
        "print(toc)"
      ],
      "metadata": {
        "colab": {
          "base_uri": "https://localhost:8080/"
        },
        "id": "q4Xq5kHv_t1V",
        "outputId": "831a7f8c-6c88-4480-97c7-cce38ea715d1"
      },
      "execution_count": 33,
      "outputs": [
        {
          "output_type": "stream",
          "name": "stdout",
          "text": [
            "[5.725610999888886, 0, 0]\n"
          ]
        }
      ]
    },
    {
      "cell_type": "code",
      "source": [
        "# numpy append\n",
        "tic = time.perf_counter()\n",
        "\n",
        "r = np.array([])\n",
        "for i in range(N):\n",
        "  r = np.append(r,i**2)\n",
        "\n",
        "toc[1] = (time.perf_counter() - tic)*1000\n",
        "print(toc)"
      ],
      "metadata": {
        "colab": {
          "base_uri": "https://localhost:8080/"
        },
        "id": "U2Y2Bu8e_KbK",
        "outputId": "7e7e72cd-a960-4f75-d785-6dbd17fa55e6"
      },
      "execution_count": 34,
      "outputs": [
        {
          "output_type": "stream",
          "name": "stdout",
          "text": [
            "[5.725610999888886, 64.8287590001928, 0]\n"
          ]
        }
      ]
    },
    {
      "cell_type": "code",
      "source": [
        "# numpy initialization\n",
        "tic = time.perf_counter()\n",
        "\n",
        "r = np.zeros(N)\n",
        "for i in range(N):\n",
        "  r[i] =i**2\n",
        "\n",
        "toc[2] = (time.perf_counter() - tic)*1000\n",
        "print(toc)"
      ],
      "metadata": {
        "colab": {
          "base_uri": "https://localhost:8080/"
        },
        "id": "xjftCU2w__Ww",
        "outputId": "351c504b-d218-4116-ce9c-49b0c813b399"
      },
      "execution_count": 35,
      "outputs": [
        {
          "output_type": "stream",
          "name": "stdout",
          "text": [
            "[5.725610999888886, 64.8287590001928, 5.034718999922916]\n"
          ]
        }
      ]
    }
  ]
}