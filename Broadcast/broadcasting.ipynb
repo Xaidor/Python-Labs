{
  "nbformat": 4,
  "nbformat_minor": 0,
  "metadata": {
    "colab": {
      "provenance": []
    },
    "kernelspec": {
      "name": "python3",
      "display_name": "Python 3"
    },
    "language_info": {
      "name": "python"
    }
  },
  "cells": [
    {
      "cell_type": "markdown",
      "source": [],
      "metadata": {
        "id": "BpJt3yyAmj5B"
      }
    },
    {
      "cell_type": "code",
      "source": [
        "# 1) Create a vector of integers 0:8 (v)\n",
        "# 2) Reshape v into a 3x3 matrix (M) (np.reshape)\n",
        "# 3) repeat M into a 9x3 (C) (np.tile)\n",
        "# 4) Broadcast-multiple C with v (B)"
      ],
      "metadata": {
        "id": "Nsa9PxXzK-2H"
      },
      "execution_count": 1,
      "outputs": []
    },
    {
      "cell_type": "code",
      "source": [
        "import numpy as np"
      ],
      "metadata": {
        "id": "30OmIhUHnrxA"
      },
      "execution_count": 27,
      "outputs": []
    },
    {
      "cell_type": "code",
      "source": [
        "v = np.arange(9)\n",
        "v"
      ],
      "metadata": {
        "id": "OjkFMzR-eNst",
        "outputId": "134726d4-9f29-4daf-d9f2-40960a8d2d45",
        "colab": {
          "base_uri": "https://localhost:8080/"
        }
      },
      "execution_count": 45,
      "outputs": [
        {
          "output_type": "execute_result",
          "data": {
            "text/plain": [
              "array([0, 1, 2, 3, 4, 5, 6, 7, 8])"
            ]
          },
          "metadata": {},
          "execution_count": 45
        }
      ]
    },
    {
      "cell_type": "code",
      "source": [
        "M = np.reshape(v,(3,3))\n",
        "M"
      ],
      "metadata": {
        "id": "dSoqIrY2fOWD",
        "outputId": "4f332c27-b206-471c-c480-3c9325b0d904",
        "colab": {
          "base_uri": "https://localhost:8080/"
        }
      },
      "execution_count": 46,
      "outputs": [
        {
          "output_type": "execute_result",
          "data": {
            "text/plain": [
              "array([[0, 1, 2],\n",
              "       [3, 4, 5],\n",
              "       [6, 7, 8]])"
            ]
          },
          "metadata": {},
          "execution_count": 46
        }
      ]
    },
    {
      "cell_type": "code",
      "source": [
        "C = np.tile(M,(3,1))\n",
        "C"
      ],
      "metadata": {
        "id": "rtEHXXBnghEZ",
        "outputId": "a93c6e6d-9318-4240-a8e0-5c653e813796",
        "colab": {
          "base_uri": "https://localhost:8080/"
        }
      },
      "execution_count": 49,
      "outputs": [
        {
          "output_type": "execute_result",
          "data": {
            "text/plain": [
              "array([[0, 1, 2],\n",
              "       [3, 4, 5],\n",
              "       [6, 7, 8],\n",
              "       [0, 1, 2],\n",
              "       [3, 4, 5],\n",
              "       [6, 7, 8],\n",
              "       [0, 1, 2],\n",
              "       [3, 4, 5],\n",
              "       [6, 7, 8]])"
            ]
          },
          "metadata": {},
          "execution_count": 49
        }
      ]
    },
    {
      "cell_type": "code",
      "source": [
        "B = C * np.reshape(v,(len(v),1))\n",
        "B"
      ],
      "metadata": {
        "id": "BqVAUxejkGF8",
        "outputId": "19583ae8-722f-46ee-f0fe-cd70ed1676e7",
        "colab": {
          "base_uri": "https://localhost:8080/"
        }
      },
      "execution_count": 50,
      "outputs": [
        {
          "output_type": "execute_result",
          "data": {
            "text/plain": [
              "array([[ 0,  0,  0],\n",
              "       [ 3,  4,  5],\n",
              "       [12, 14, 16],\n",
              "       [ 0,  3,  6],\n",
              "       [12, 16, 20],\n",
              "       [30, 35, 40],\n",
              "       [ 0,  6, 12],\n",
              "       [21, 28, 35],\n",
              "       [48, 56, 64]])"
            ]
          },
          "metadata": {},
          "execution_count": 50
        }
      ]
    }
  ]
}