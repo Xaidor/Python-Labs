{
  "nbformat": 4,
  "nbformat_minor": 0,
  "metadata": {
    "colab": {
      "provenance": []
    },
    "kernelspec": {
      "name": "python3",
      "display_name": "Python 3"
    },
    "language_info": {
      "name": "python"
    }
  },
  "cells": [
    {
      "cell_type": "markdown",
      "source": [],
      "metadata": {
        "id": "BpJt3yyAmj5B"
      }
    },
    {
      "cell_type": "code",
      "source": [
        "# Create a new class with the following changes\n",
        "# 1. Weights should be a random numbers matrix of size layers X units\n",
        "# 2. Training method will be multiplied by input x + input y"
      ],
      "metadata": {
        "id": "Nsa9PxXzK-2H"
      },
      "execution_count": null,
      "outputs": []
    },
    {
      "cell_type": "code",
      "source": [
        "import numpy as np"
      ],
      "metadata": {
        "id": "Bn0LFPYtF7gg"
      },
      "execution_count": 1,
      "outputs": []
    },
    {
      "cell_type": "code",
      "source": [
        "class randmodel(object):\n",
        "\n",
        "  def __init__ (self, numlayers, numunits, name):\n",
        "        self.layers  = numlayers\n",
        "        self.units   = numunits\n",
        "        self.name    = name\n",
        "        self.weights = np.random.randn(self.layers, self.units)\n",
        "\n",
        "  def UnitsInModel(self):\n",
        "        totalUnits = self.layers * self.units\n",
        "        print(f\"There are {totalUnits} units in the model.\")\n",
        "\n",
        "  def trainModel(self,x,y):\n",
        "        self.weights = self.weights * x + y\n",
        "        return self.weights\n",
        "\n",
        "  def __str__(self):\n",
        "       return f\"This is a {self.name} architecture.\""
      ],
      "metadata": {
        "id": "T8UpV282GDv7"
      },
      "execution_count": 34,
      "outputs": []
    },
    {
      "cell_type": "code",
      "source": [
        "model1 = randmodel(3,4,\"Kay\")\n",
        "model1.weights"
      ],
      "metadata": {
        "colab": {
          "base_uri": "https://localhost:8080/"
        },
        "id": "WUdIrKflHeQ1",
        "outputId": "046cf260-4eaf-48b0-d5d2-b55019ee4a92"
      },
      "execution_count": 42,
      "outputs": [
        {
          "output_type": "execute_result",
          "data": {
            "text/plain": [
              "array([[ 1.29399656, -0.60377929, -0.74767194,  0.16844359],\n",
              "       [ 0.71971789, -1.10482733, -0.64645661,  2.87870402],\n",
              "       [ 1.51199657, -2.69363944,  1.1383936 ,  0.67416929]])"
            ]
          },
          "metadata": {},
          "execution_count": 42
        }
      ]
    },
    {
      "cell_type": "code",
      "source": [
        "model1.trainModel(.4,3)"
      ],
      "metadata": {
        "colab": {
          "base_uri": "https://localhost:8080/"
        },
        "id": "_E9XaDfwMjdl",
        "outputId": "d78a1adc-1ff5-4f3f-fe62-6d4fd32e5a00"
      },
      "execution_count": 44,
      "outputs": [
        {
          "output_type": "execute_result",
          "data": {
            "text/plain": [
              "array([[ 6.2703945 ,  3.23395314,  3.0037249 ,  4.46950975],\n",
              "       [ 5.35154863,  2.43227627,  3.16566942,  8.80592644],\n",
              "       [ 6.61919451, -0.10982311,  6.02142976,  5.27867086]])"
            ]
          },
          "metadata": {},
          "execution_count": 44
        }
      ]
    },
    {
      "cell_type": "code",
      "source": [
        "model1.__str__()"
      ],
      "metadata": {
        "colab": {
          "base_uri": "https://localhost:8080/",
          "height": 35
        },
        "id": "VcCgR_DFJWuv",
        "outputId": "ebcbe59e-d5b6-465a-b0d5-cb7df3b7b1a7"
      },
      "execution_count": 28,
      "outputs": [
        {
          "output_type": "execute_result",
          "data": {
            "text/plain": [
              "'This is a Kay architecture.'"
            ],
            "application/vnd.google.colaboratory.intrinsic+json": {
              "type": "string"
            }
          },
          "metadata": {},
          "execution_count": 28
        }
      ]
    },
    {
      "cell_type": "markdown",
      "source": [],
      "metadata": {
        "id": "ODZR6XnTMVCe"
      }
    }
  ]
}