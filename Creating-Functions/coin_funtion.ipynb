{
  "nbformat": 4,
  "nbformat_minor": 0,
  "metadata": {
    "colab": {
      "provenance": []
    },
    "kernelspec": {
      "name": "python3",
      "display_name": "Python 3"
    },
    "language_info": {
      "name": "python"
    }
  },
  "cells": [
    {
      "cell_type": "markdown",
      "source": [],
      "metadata": {
        "id": "BpJt3yyAmj5B"
      }
    },
    {
      "cell_type": "code",
      "source": [
        "# Flip a coin and get the average"
      ],
      "metadata": {
        "id": "FGBqhg5Uh7Oo"
      },
      "execution_count": null,
      "outputs": []
    },
    {
      "cell_type": "code",
      "source": [
        "import numpy as np"
      ],
      "metadata": {
        "id": "KgL0A1sOlNh2"
      },
      "execution_count": 95,
      "outputs": []
    },
    {
      "cell_type": "code",
      "source": [
        "# Test runs"
      ],
      "metadata": {
        "id": "fiu074dhx0Mw"
      },
      "execution_count": null,
      "outputs": []
    },
    {
      "cell_type": "code",
      "source": [
        "np.random.randn(10)"
      ],
      "metadata": {
        "colab": {
          "base_uri": "https://localhost:8080/"
        },
        "id": "iI35ocECxlzr",
        "outputId": "a45397c0-f753-4704-c3d1-9a79a08d890e"
      },
      "execution_count": 97,
      "outputs": [
        {
          "output_type": "execute_result",
          "data": {
            "text/plain": [
              "array([ 1.16789091,  0.59110935,  0.21663878, -0.06063008,  1.87067566,\n",
              "        0.16597846, -0.58973959, -0.4455494 , -0.68753025,  2.16109744])"
            ]
          },
          "metadata": {},
          "execution_count": 97
        }
      ]
    },
    {
      "cell_type": "code",
      "source": [
        "np.mean( np.random.randn(10) > 0 )"
      ],
      "metadata": {
        "id": "iHuiQ7gdtdUw",
        "colab": {
          "base_uri": "https://localhost:8080/"
        },
        "outputId": "fb25084a-cfa4-4ab9-b629-39cc532c55e8"
      },
      "execution_count": 100,
      "outputs": [
        {
          "output_type": "execute_result",
          "data": {
            "text/plain": [
              "0.6"
            ]
          },
          "metadata": {},
          "execution_count": 100
        }
      ]
    },
    {
      "cell_type": "code",
      "source": [
        "# Define Function"
      ],
      "metadata": {
        "id": "oLp6_c9tx4AR"
      },
      "execution_count": null,
      "outputs": []
    },
    {
      "cell_type": "code",
      "source": [
        "def CoinFlip(timesflipped):\n",
        "  ave = np.mean( np.random.randn(10) > 0 )\n",
        "  print( str(timesflipped) + \" coins flips had \" + str(100* ave) + \" heads.\")"
      ],
      "metadata": {
        "id": "VYO5JNzdkuEy"
      },
      "execution_count": 93,
      "outputs": []
    },
    {
      "cell_type": "code",
      "source": [
        "CoinFlip(12)"
      ],
      "metadata": {
        "id": "wZZXhMpSpk66",
        "colab": {
          "base_uri": "https://localhost:8080/"
        },
        "outputId": "dd9c0747-3100-4fc2-c29f-e353cd467c48"
      },
      "execution_count": 101,
      "outputs": [
        {
          "output_type": "stream",
          "name": "stdout",
          "text": [
            "12 coins flips had 70.0 heads.\n"
          ]
        }
      ]
    }
  ]
}