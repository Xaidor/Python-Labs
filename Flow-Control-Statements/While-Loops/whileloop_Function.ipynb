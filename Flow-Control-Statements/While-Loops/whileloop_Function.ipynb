{
  "nbformat": 4,
  "nbformat_minor": 0,
  "metadata": {
    "colab": {
      "provenance": []
    },
    "kernelspec": {
      "name": "python3",
      "display_name": "Python 3"
    },
    "language_info": {
      "name": "python"
    }
  },
  "cells": [
    {
      "cell_type": "markdown",
      "source": [],
      "metadata": {
        "id": "BpJt3yyAmj5B"
      }
    },
    {
      "cell_type": "code",
      "source": [
        "# Poisson Counter\n",
        "# 1) Specify a target exp(-lambda) -> 10 | if writen in math it would be e^lambda\n",
        "# 2) Initialize a counter=0, currval=1\n",
        "# 3) Multiply currval by random number U[0,1]\n",
        "# 4) Repeat step 3 until currval<target\n",
        "# 5) Return the number of times that you go through steps 4"
      ],
      "metadata": {
        "id": "Nsa9PxXzK-2H"
      },
      "execution_count": 1,
      "outputs": []
    },
    {
      "cell_type": "code",
      "source": [
        "import random\n",
        "import numpy as np"
      ],
      "metadata": {
        "id": "30OmIhUHnrxA"
      },
      "execution_count": 2,
      "outputs": []
    },
    {
      "cell_type": "code",
      "source": [
        "def PoissonCounter(lam):\n",
        "  target = np.exp(-lam)\n",
        "  counter, currval = (0,1)\n",
        "\n",
        "  while currval > target:\n",
        "    counter += 1\n",
        "    currval *= np.random.rand()\n",
        "\n",
        "  return counter"
      ],
      "metadata": {
        "id": "q2pthepWWGLb"
      },
      "execution_count": 20,
      "outputs": []
    },
    {
      "cell_type": "code",
      "source": [
        "PoissonCounter(10)"
      ],
      "metadata": {
        "id": "lPCN-HRCW4cz",
        "outputId": "94285354-76f3-4cbc-fa66-57d46f413768",
        "colab": {
          "base_uri": "https://localhost:8080/"
        }
      },
      "execution_count": 21,
      "outputs": [
        {
          "output_type": "execute_result",
          "data": {
            "text/plain": [
              "13"
            ]
          },
          "metadata": {},
          "execution_count": 21
        }
      ]
    }
  ]
}