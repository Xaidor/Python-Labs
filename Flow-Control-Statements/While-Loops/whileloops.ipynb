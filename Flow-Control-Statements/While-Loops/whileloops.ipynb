{
  "nbformat": 4,
  "nbformat_minor": 0,
  "metadata": {
    "colab": {
      "provenance": []
    },
    "kernelspec": {
      "name": "python3",
      "display_name": "Python 3"
    },
    "language_info": {
      "name": "python"
    }
  },
  "cells": [
    {
      "cell_type": "markdown",
      "source": [],
      "metadata": {
        "id": "BpJt3yyAmj5B"
      }
    },
    {
      "cell_type": "code",
      "source": [
        "# Poisson Counter\n",
        "# 1) Specify a target exp(-lambda) -> 10 | if writen in math it would be e^lambda\n",
        "# 2) Initialize a counter=0, currval=1\n",
        "# 3) Multiply currval by random number U[0,1]\n",
        "# 4) Repeat step 3 until currval<target\n",
        "# 5) Return the number of times that you go through steps 4"
      ],
      "metadata": {
        "id": "Nsa9PxXzK-2H"
      },
      "execution_count": 1,
      "outputs": []
    },
    {
      "cell_type": "code",
      "source": [
        "import random\n",
        "import numpy as np"
      ],
      "metadata": {
        "id": "30OmIhUHnrxA"
      },
      "execution_count": 2,
      "outputs": []
    },
    {
      "cell_type": "code",
      "source": [
        "target = np.exp(-10)\n",
        "target"
      ],
      "metadata": {
        "colab": {
          "base_uri": "https://localhost:8080/"
        },
        "id": "LEG40uzLHUYO",
        "outputId": "91b937ac-926c-4541-e40f-b1dd90ae380f"
      },
      "execution_count": 3,
      "outputs": [
        {
          "output_type": "execute_result",
          "data": {
            "text/plain": [
              "4.5399929762484854e-05"
            ]
          },
          "metadata": {},
          "execution_count": 3
        }
      ]
    },
    {
      "cell_type": "code",
      "source": [
        "counter = 0\n",
        "currval = 1"
      ],
      "metadata": {
        "id": "0qPmzpVtQhDI"
      },
      "execution_count": 4,
      "outputs": []
    },
    {
      "cell_type": "code",
      "source": [
        "while currval > target:\n",
        "  counter += 1\n",
        "  currval = currval * random.uniform(0,1)\n",
        "\n",
        "  if currval < target:\n",
        "    print(\"It took \" + str(counter) + \" trys.\")"
      ],
      "metadata": {
        "id": "vewP1tx3QnA6",
        "outputId": "49b955f4-7dea-461e-d399-cb4f7608ad2f",
        "colab": {
          "base_uri": "https://localhost:8080/"
        }
      },
      "execution_count": 5,
      "outputs": [
        {
          "output_type": "stream",
          "name": "stdout",
          "text": [
            "It took 11 trys.\n"
          ]
        }
      ]
    }
  ]
}