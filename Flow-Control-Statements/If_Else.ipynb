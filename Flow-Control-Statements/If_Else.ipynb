{
  "cells": [
    {
      "cell_type": "markdown",
      "metadata": {
        "id": "BpJt3yyAmj5B"
      },
      "source": []
    },
    {
      "cell_type": "code",
      "execution_count": 2,
      "metadata": {
        "id": "Bn0LFPYtF7gg"
      },
      "outputs": [],
      "source": [
        "import numpy as np"
      ]
    },
    {
      "cell_type": "code",
      "execution_count": 8,
      "metadata": {
        "id": "UNo31LotaFX8"
      },
      "outputs": [],
      "source": [
        "ran = np.random.randint(30, size=(2, 4))"
      ]
    },
    {
      "cell_type": "code",
      "execution_count": 9,
      "metadata": {
        "colab": {
          "base_uri": "https://localhost:8080/"
        },
        "id": "nGGQkEyHei4a",
        "outputId": "e63908eb-fe9f-437b-9109-a3d25f898b6e"
      },
      "outputs": [
        {
          "data": {
            "text/plain": [
              "array([[18, 22, 24,  1],\n",
              "       [ 4, 16, 10, 25]])"
            ]
          },
          "execution_count": 9,
          "metadata": {},
          "output_type": "execute_result"
        }
      ],
      "source": [
        "ran"
      ]
    },
    {
      "cell_type": "code",
      "execution_count": 13,
      "metadata": {
        "colab": {
          "base_uri": "https://localhost:8080/"
        },
        "id": "aAPiRE6pePBg",
        "outputId": "0c16f843-0bb9-4a3e-eb08-905e72ac1389"
      },
      "outputs": [
        {
          "name": "stdout",
          "output_type": "stream",
          "text": [
            "[ 72 352 240  25]\n"
          ]
        }
      ],
      "source": [
        "if ran.all == ran.all:\n",
        "  print(ran[0] * ran[1])\n",
        "\n",
        "else:\n",
        "  print(\"Uh oh, something went wrong. Check your code and try again.\")"
      ]
    }
  ],
  "metadata": {
    "colab": {
      "provenance": []
    },
    "kernelspec": {
      "display_name": "Python 3",
      "name": "python3"
    },
    "language_info": {
      "name": "python"
    }
  },
  "nbformat": 4,
  "nbformat_minor": 0
}
