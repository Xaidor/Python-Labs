{
  "nbformat": 4,
  "nbformat_minor": 0,
  "metadata": {
    "colab": {
      "provenance": []
    },
    "kernelspec": {
      "name": "python3",
      "display_name": "Python 3"
    },
    "language_info": {
      "name": "python"
    }
  },
  "cells": [
    {
      "cell_type": "markdown",
      "source": [],
      "metadata": {
        "id": "BpJt3yyAmj5B"
      }
    },
    {
      "cell_type": "code",
      "source": [
        "# Create a function that computes the \"dot product\" between two vectors\n",
        "# Check that both inputs are numpy arrays using print(isinstance())\n",
        "# Check that both inputs are the same length\n",
        "# Break out the function and give an error message: raise Exception()"
      ],
      "metadata": {
        "id": "Nsa9PxXzK-2H"
      },
      "execution_count": 1,
      "outputs": []
    },
    {
      "cell_type": "code",
      "source": [
        "import numpy as np"
      ],
      "metadata": {
        "id": "Bn0LFPYtF7gg"
      },
      "execution_count": 43,
      "outputs": []
    },
    {
      "cell_type": "code",
      "source": [
        "def DotProduct():\n",
        "  ran = np.random.randint(30, size=(2, 4))\n",
        "  length1 = len(ran[0])\n",
        "  length2 = len(ran[1])\n",
        "\n",
        "  if length1 == length2:\n",
        "    print(True)\n",
        "\n",
        "    if ran.all == ran.all:\n",
        "      print(\"Are both inputs arrays? \" + str(isinstance(ran, np.ndarray)))\n",
        "      print(\"The length of the first array is \" + str(length1) + \".\" \"\\nThe length of the second array is \" + str(length2) + \".\" )\n",
        "      print(\"List arrays: \" + str(ran))\n",
        "      print(\"The Dot Product is: \" + str(np.dot(ran[0],ran[1])))\n",
        "  #Option 2 print(\"The Dot Product is: \" + str(sum(run[0]*run[1])))\n",
        "\n",
        "  else:\n",
        "    raise Exception (print(\"Uh oh, something went wrong. Check your code and try again.\"))"
      ],
      "metadata": {
        "id": "UNo31LotaFX8"
      },
      "execution_count": 83,
      "outputs": []
    },
    {
      "cell_type": "code",
      "source": [
        "DotProduct()"
      ],
      "metadata": {
        "colab": {
          "base_uri": "https://localhost:8080/",
          "height": 269
        },
        "id": "neXmuiDx8h-i",
        "outputId": "9bd7d875-5a59-4743-ed91-3fdb6384eeb1"
      },
      "execution_count": 82,
      "outputs": [
        {
          "output_type": "stream",
          "name": "stdout",
          "text": [
            "Uh oh, something went wrong. Check your code and try again.\n"
          ]
        },
        {
          "output_type": "error",
          "ename": "Exception",
          "evalue": "None",
          "traceback": [
            "\u001b[0;31m---------------------------------------------------------------------------\u001b[0m",
            "\u001b[0;31mException\u001b[0m                                 Traceback (most recent call last)",
            "\u001b[0;32m<ipython-input-82-8c909411aae0>\u001b[0m in \u001b[0;36m<cell line: 0>\u001b[0;34m()\u001b[0m\n\u001b[0;32m----> 1\u001b[0;31m \u001b[0mDotProduct\u001b[0m\u001b[0;34m(\u001b[0m\u001b[0;34m)\u001b[0m\u001b[0;34m\u001b[0m\u001b[0;34m\u001b[0m\u001b[0m\n\u001b[0m",
            "\u001b[0;32m<ipython-input-81-473836da1abf>\u001b[0m in \u001b[0;36mDotProduct\u001b[0;34m()\u001b[0m\n\u001b[1;32m     18\u001b[0m \u001b[0;34m\u001b[0m\u001b[0m\n\u001b[1;32m     19\u001b[0m   \u001b[0;32melse\u001b[0m\u001b[0;34m:\u001b[0m\u001b[0;34m\u001b[0m\u001b[0;34m\u001b[0m\u001b[0m\n\u001b[0;32m---> 20\u001b[0;31m     \u001b[0;32mraise\u001b[0m \u001b[0mException\u001b[0m \u001b[0;34m(\u001b[0m\u001b[0mprint\u001b[0m\u001b[0;34m(\u001b[0m\u001b[0;34m\"Uh oh, something went wrong. Check your code and try again.\"\u001b[0m\u001b[0;34m)\u001b[0m\u001b[0;34m)\u001b[0m\u001b[0;34m\u001b[0m\u001b[0;34m\u001b[0m\u001b[0m\n\u001b[0m",
            "\u001b[0;31mException\u001b[0m: None"
          ]
        }
      ]
    }
  ]
}