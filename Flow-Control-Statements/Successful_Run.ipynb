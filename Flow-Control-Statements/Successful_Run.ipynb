{
  "nbformat": 4,
  "nbformat_minor": 0,
  "metadata": {
    "colab": {
      "provenance": []
    },
    "kernelspec": {
      "name": "python3",
      "display_name": "Python 3"
    },
    "language_info": {
      "name": "python"
    }
  },
  "cells": [
    {
      "cell_type": "markdown",
      "source": [],
      "metadata": {
        "id": "BpJt3yyAmj5B"
      }
    },
    {
      "cell_type": "code",
      "source": [
        "# Create a function that computes the \"dot product\" between two vectors\n",
        "# Check that both inputs are numpy arrays using print(isinstance())\n",
        "# Check that both inputs are the same length\n",
        "# Break out the function and give an error message: raise Exception()"
      ],
      "metadata": {
        "id": "Nsa9PxXzK-2H"
      },
      "execution_count": 1,
      "outputs": []
    },
    {
      "cell_type": "code",
      "source": [
        "import numpy as np"
      ],
      "metadata": {
        "id": "Bn0LFPYtF7gg"
      },
      "execution_count": 2,
      "outputs": []
    },
    {
      "cell_type": "code",
      "source": [
        "def DotProduct():\n",
        "  ran = np.random.randint(30, size=(2, 4))\n",
        "  length1 = len(ran[0])\n",
        "  length2 = len(ran[1])\n",
        "\n",
        "  if length1 == length2:\n",
        "    print(True)\n",
        "\n",
        "    if ran.all == ran.all:\n",
        "      print(\"Are both inputs arrays? \" + str(isinstance(ran, np.ndarray)))\n",
        "      print(\"The length of the first array is \" + str(length1) + \".\" \"\\nThe length of the second array is \" + str(length2) + \".\" )\n",
        "      print(\"List arrays: \" + str(ran))\n",
        "      print(\"The Dot Product is: \" + str(np.dot(ran[0],ran[1])))\n",
        "  #Option 2 print(\"The Dot Product is: \" + str(sum(run[0]*run[1])))\n",
        "\n",
        "  else:\n",
        "    raise Exception (print(\"Uh oh, something went wrong. Check your code and try again.\"))"
      ],
      "metadata": {
        "id": "UNo31LotaFX8"
      },
      "execution_count": 1,
      "outputs": []
    },
    {
      "cell_type": "code",
      "source": [
        "DotProduct()"
      ],
      "metadata": {
        "colab": {
          "base_uri": "https://localhost:8080/"
        },
        "id": "neXmuiDx8h-i",
        "outputId": "a76a9332-6117-455d-f4e9-6eb98bf06e19"
      },
      "execution_count": 3,
      "outputs": [
        {
          "output_type": "stream",
          "name": "stdout",
          "text": [
            "True\n",
            "Are both inputs arrays? True\n",
            "The length of the first array is 4.\n",
            "The length of the second array is 4.\n",
            "List arrays: [[ 8 16 29  6]\n",
            " [28 18  2 25]]\n",
            "The Dot Product is: 720\n"
          ]
        }
      ]
    }
  ]
}