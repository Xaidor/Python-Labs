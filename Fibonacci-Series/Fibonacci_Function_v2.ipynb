{
  "nbformat": 4,
  "nbformat_minor": 0,
  "metadata": {
    "colab": {
      "provenance": []
    },
    "kernelspec": {
      "name": "python3",
      "display_name": "Python 3"
    },
    "language_info": {
      "name": "python"
    }
  },
  "cells": [
    {
      "cell_type": "markdown",
      "source": [],
      "metadata": {
        "id": "BpJt3yyAmj5B"
      }
    },
    {
      "cell_type": "code",
      "source": [
        "# Fibonacci Series\n",
        "# The Fibonacci Series takes the sum of the previous two numbers to create the next number in the sequince\n",
        "# Create a function that reports the Fib. series for input N"
      ],
      "metadata": {
        "id": "Nsa9PxXzK-2H"
      },
      "execution_count": null,
      "outputs": []
    },
    {
      "cell_type": "code",
      "source": [
        "def FibonacciSeries(N):\n",
        "  fib = [0,1]\n",
        "  for f in range(N):\n",
        "   fib.append(sum(fib[-2:]))\n",
        "\n",
        "  print(fib)"
      ],
      "metadata": {
        "id": "DDrM4ID5cYkh"
      },
      "execution_count": 7,
      "outputs": []
    },
    {
      "cell_type": "code",
      "source": [
        "FibonacciSeries(7)"
      ],
      "metadata": {
        "colab": {
          "base_uri": "https://localhost:8080/"
        },
        "id": "-QvFP8kka37O",
        "outputId": "e8326578-8141-4e7e-9f59-3d43b44b9994"
      },
      "execution_count": 8,
      "outputs": [
        {
          "output_type": "stream",
          "name": "stdout",
          "text": [
            "[0, 1, 1, 2, 3, 5, 8, 13, 21]\n"
          ]
        }
      ]
    }
  ]
}