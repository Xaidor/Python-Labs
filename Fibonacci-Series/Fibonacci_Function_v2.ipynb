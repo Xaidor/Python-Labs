{
  "nbformat": 4,
  "nbformat_minor": 0,
  "metadata": {
    "colab": {
      "provenance": []
    },
    "kernelspec": {
      "name": "python3",
      "display_name": "Python 3"
    },
    "language_info": {
      "name": "python"
    }
  },
  "cells": [
    {
      "cell_type": "markdown",
      "source": [],
      "metadata": {
        "id": "BpJt3yyAmj5B"
      }
    },
    {
      "cell_type": "code",
      "source": [
        "# Fibonacci Series\n",
        "# The Fibonacci Series takes the sum of the previous two numbers to create the next number in the sequince\n",
        "# Create a function that reports the Fib. series for input N"
      ],
      "metadata": {
        "id": "Nsa9PxXzK-2H"
      },
      "execution_count": null,
      "outputs": []
    },
    {
      "cell_type": "code",
      "source": [
        "def FibonacciSeries(N):\n",
        "  fib = [0,1]\n",
        "  for f in range(N-2):\n",
        "   fib.append(sum(fib[-2:]))\n",
        "\n",
        "  print(fib)"
      ],
      "metadata": {
        "id": "DDrM4ID5cYkh"
      },
      "execution_count": 10,
      "outputs": []
    },
    {
      "cell_type": "code",
      "source": [
        "FibonacciSeries(7)"
      ],
      "metadata": {
        "colab": {
          "base_uri": "https://localhost:8080/"
        },
        "id": "-QvFP8kka37O",
        "outputId": "e401bf3e-2634-4d78-96ac-4180c84a6765"
      },
      "execution_count": 11,
      "outputs": [
        {
          "output_type": "stream",
          "name": "stdout",
          "text": [
            "[0, 1, 1, 2, 3, 5, 8]\n"
          ]
        }
      ]
    }
  ]
}