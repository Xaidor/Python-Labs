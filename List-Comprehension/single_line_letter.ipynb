{
  "nbformat": 4,
  "nbformat_minor": 0,
  "metadata": {
    "colab": {
      "provenance": []
    },
    "kernelspec": {
      "name": "python3",
      "display_name": "Python 3"
    },
    "language_info": {
      "name": "python"
    }
  },
  "cells": [
    {
      "cell_type": "markdown",
      "source": [],
      "metadata": {
        "id": "BpJt3yyAmj5B"
      }
    },
    {
      "cell_type": "code",
      "source": [
        "# List Comprehension\n",
        "# Convert the following loops into single-line loop (list comprehension)"
      ],
      "metadata": {
        "id": "Nsa9PxXzK-2H"
      },
      "execution_count": 1,
      "outputs": []
    },
    {
      "cell_type": "code",
      "source": [
        "import random\n",
        "import numpy as np"
      ],
      "metadata": {
        "id": "30OmIhUHnrxA"
      },
      "execution_count": 15,
      "outputs": []
    },
    {
      "cell_type": "code",
      "source": [
        "text = [\"Promising\", \"Yves\", \"that\", \"home\", \"on\", \"Nobb\"]\n",
        "\n",
        "for word in text:\n",
        "  print(word[0])"
      ],
      "metadata": {
        "colab": {
          "base_uri": "https://localhost:8080/"
        },
        "id": "7fUxhdBKmP3i",
        "outputId": "81e88235-5b65-4fd6-a7a4-ae1543cce6c1"
      },
      "execution_count": 28,
      "outputs": [
        {
          "output_type": "stream",
          "name": "stdout",
          "text": [
            "P\n",
            "Y\n",
            "t\n",
            "h\n",
            "o\n",
            "N\n"
          ]
        }
      ]
    },
    {
      "cell_type": "code",
      "source": [
        "txt = [print(letter[0]) for letter in text]"
      ],
      "metadata": {
        "colab": {
          "base_uri": "https://localhost:8080/"
        },
        "id": "7qtTzT6anoxj",
        "outputId": "e4d9e7d2-0a24-4115-86d9-540f8934decf"
      },
      "execution_count": 33,
      "outputs": [
        {
          "output_type": "stream",
          "name": "stdout",
          "text": [
            "P\n",
            "Y\n",
            "t\n",
            "h\n",
            "o\n",
            "N\n"
          ]
        }
      ]
    },
    {
      "cell_type": "code",
      "source": [
        "newlist = [\"\"]*10\n",
        "\n",
        "for i in range(10):\n",
        "  if i%2==1:\n",
        "    newlist[i] = \"Odd\"\n",
        "  else:\n",
        "    newlist[i] = i\n",
        "\n",
        "newlist"
      ],
      "metadata": {
        "colab": {
          "base_uri": "https://localhost:8080/"
        },
        "id": "bTRASOkkmr10",
        "outputId": "08b4b3b5-4026-46e8-f740-4ac1f69f3bca"
      },
      "execution_count": 23,
      "outputs": [
        {
          "output_type": "execute_result",
          "data": {
            "text/plain": [
              "[0, 'Odd', 2, 'Odd', 4, 'Odd', 6, 'Odd', 8, 'Odd']"
            ]
          },
          "metadata": {},
          "execution_count": 23
        }
      ]
    },
    {
      "cell_type": "code",
      "source": [
        "nl = [\"Odd\" if i%2==1 else i for i in range(10)]\n",
        "nl"
      ],
      "metadata": {
        "colab": {
          "base_uri": "https://localhost:8080/"
        },
        "id": "LsfFDMKHtio2",
        "outputId": "a4402ea9-26f6-4408-efe3-4d7090e7d63b"
      },
      "execution_count": 25,
      "outputs": [
        {
          "output_type": "execute_result",
          "data": {
            "text/plain": [
              "[0, 'Odd', 2, 'Odd', 4, 'Odd', 6, 'Odd', 8, 'Odd']"
            ]
          },
          "metadata": {},
          "execution_count": 25
        }
      ]
    },
    {
      "cell_type": "code",
      "source": [
        "# Repeat without using numpy\n",
        "x1 = np.linspace(-3,3,11)\n",
        "y1 = x1**2\n",
        "\n",
        "print(x1)\n",
        "print(y1)"
      ],
      "metadata": {
        "colab": {
          "base_uri": "https://localhost:8080/"
        },
        "id": "Y6BsXqlKnKM-",
        "outputId": "81a07cc3-9b58-4c99-9674-dc5a55ca3b9a"
      },
      "execution_count": 17,
      "outputs": [
        {
          "output_type": "stream",
          "name": "stdout",
          "text": [
            "[-3.  -2.4 -1.8 -1.2 -0.6  0.   0.6  1.2  1.8  2.4  3. ]\n",
            "[9.   5.76 3.24 1.44 0.36 0.   0.36 1.44 3.24 5.76 9.  ]\n"
          ]
        }
      ]
    },
    {
      "cell_type": "code",
      "source": [
        "xx = [ i/(5/3) for i in range(-5,6)]\n",
        "yy = [i**2 for i in xx]\n",
        "\n",
        "print(xx)\n",
        "print(yy)"
      ],
      "metadata": {
        "colab": {
          "base_uri": "https://localhost:8080/"
        },
        "id": "21eoynK9pG-e",
        "outputId": "6b42a7f1-45e9-47c5-aa70-9e9d2fcf43c5"
      },
      "execution_count": 34,
      "outputs": [
        {
          "output_type": "stream",
          "name": "stdout",
          "text": [
            "[-3.0, -2.4, -1.7999999999999998, -1.2, -0.6, 0.0, 0.6, 1.2, 1.7999999999999998, 2.4, 3.0]\n",
            "[9.0, 5.76, 3.2399999999999993, 1.44, 0.36, 0.0, 0.36, 1.44, 3.2399999999999993, 5.76, 9.0]\n"
          ]
        }
      ]
    }
  ]
}