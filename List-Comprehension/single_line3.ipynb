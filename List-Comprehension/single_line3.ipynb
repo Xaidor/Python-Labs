{
  "nbformat": 4,
  "nbformat_minor": 0,
  "metadata": {
    "colab": {
      "provenance": []
    },
    "kernelspec": {
      "name": "python3",
      "display_name": "Python 3"
    },
    "language_info": {
      "name": "python"
    }
  },
  "cells": [
    {
      "cell_type": "markdown",
      "source": [],
      "metadata": {
        "id": "BpJt3yyAmj5B"
      }
    },
    {
      "cell_type": "code",
      "source": [
        "# List Comprehension\n",
        "# Convert the following loops into single-line loop (list comprehension)"
      ],
      "metadata": {
        "id": "Nsa9PxXzK-2H"
      },
      "execution_count": 1,
      "outputs": []
    },
    {
      "cell_type": "code",
      "source": [
        "import random\n",
        "import numpy as np"
      ],
      "metadata": {
        "id": "30OmIhUHnrxA"
      },
      "execution_count": 15,
      "outputs": []
    },
    {
      "cell_type": "code",
      "source": [
        "text = [\"Promising\", \"Yves\", \"that\", \"home\", \"on\", \"Nobb\"]\n",
        "\n",
        "for word in text:\n",
        "  print(word[0])"
      ],
      "metadata": {
        "id": "7fUxhdBKmP3i"
      },
      "execution_count": null,
      "outputs": []
    },
    {
      "cell_type": "code",
      "source": [],
      "metadata": {
        "id": "7qtTzT6anoxj"
      },
      "execution_count": null,
      "outputs": []
    },
    {
      "cell_type": "code",
      "source": [
        "newlist = [\"\"]*10\n",
        "\n",
        "for i in range(10):\n",
        "  if i%2==1:\n",
        "    newlist[i] = \"Odd\"\n",
        "  else:\n",
        "    newlist[i] = i\n",
        "\n",
        "newlist"
      ],
      "metadata": {
        "id": "bTRASOkkmr10"
      },
      "execution_count": null,
      "outputs": []
    },
    {
      "cell_type": "code",
      "source": [
        "# Repeat without using numpy\n",
        "x1 = np.linspace(-3,3,11)\n",
        "y1 = x1**2\n",
        "\n",
        "print(x1)\n",
        "print(y1)"
      ],
      "metadata": {
        "colab": {
          "base_uri": "https://localhost:8080/"
        },
        "id": "Y6BsXqlKnKM-",
        "outputId": "81a07cc3-9b58-4c99-9674-dc5a55ca3b9a"
      },
      "execution_count": 17,
      "outputs": [
        {
          "output_type": "stream",
          "name": "stdout",
          "text": [
            "[-3.  -2.4 -1.8 -1.2 -0.6  0.   0.6  1.2  1.8  2.4  3. ]\n",
            "[9.   5.76 3.24 1.44 0.36 0.   0.36 1.44 3.24 5.76 9.  ]\n"
          ]
        }
      ]
    },
    {
      "cell_type": "code",
      "source": [
        "x1 = [-3 + (6/10)*i for i in range(11)]\n",
        "y1 = [x**2 for x in x1]\n",
        "\n",
        "print(x1)\n",
        "print(y1)"
      ],
      "metadata": {
        "colab": {
          "base_uri": "https://localhost:8080/"
        },
        "id": "21eoynK9pG-e",
        "outputId": "7aadd00f-00dc-4149-8c25-c827aa5f1743"
      },
      "execution_count": 19,
      "outputs": [
        {
          "output_type": "stream",
          "name": "stdout",
          "text": [
            "[-3.0, -2.4, -1.8, -1.2000000000000002, -0.6000000000000001, 0.0, 0.5999999999999996, 1.2000000000000002, 1.7999999999999998, 2.3999999999999995, 3.0]\n",
            "[9.0, 5.76, 3.24, 1.4400000000000004, 0.3600000000000001, 0.0, 0.3599999999999996, 1.4400000000000004, 3.2399999999999993, 5.759999999999997, 9.0]\n"
          ]
        }
      ]
    }
  ]
}