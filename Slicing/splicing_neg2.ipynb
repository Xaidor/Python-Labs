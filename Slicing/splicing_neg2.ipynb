{
  "cells": [
    {
      "cell_type": "code",
      "execution_count": null,
      "metadata": {
        "id": "bn0lpEcPDR_Y"
      },
      "outputs": [],
      "source": [
        "# Use slicing to write out \"Kaylen is a sweetheart\" from the list text"
      ]
    },
    {
      "cell_type": "code",
      "execution_count": 58,
      "metadata": {
        "id": "tpv4bRUay11f"
      },
      "outputs": [],
      "source": [
        "text = \"345ftraehteews a si nelyaK 83926s\""
      ]
    },
    {
      "cell_type": "code",
      "execution_count": 63,
      "metadata": {
        "id": "xHCwPELuIW0D"
      },
      "outputs": [],
      "source": [
        "start = -8\n",
        "stop  = -30\n",
        "skip  = -1"
      ]
    },
    {
      "cell_type": "code",
      "execution_count": 64,
      "metadata": {
        "colab": {
          "base_uri": "https://localhost:8080/",
          "height": 35
        },
        "id": "MnB066fKIcw9",
        "outputId": "a9178f1c-136b-47b5-f5fe-ff2526abdf85"
      },
      "outputs": [
        {
          "data": {
            "application/vnd.google.colaboratory.intrinsic+json": {
              "type": "string"
            },
            "text/plain": [
              "'Kaylen is a sweetheart'"
            ]
          },
          "execution_count": 64,
          "metadata": {},
          "output_type": "execute_result"
        }
      ],
      "source": [
        "text[start:stop:skip]"
      ]
    }
  ],
  "metadata": {
    "colab": {
      "provenance": []
    },
    "kernelspec": {
      "display_name": "Python 3",
      "name": "python3"
    },
    "language_info": {
      "name": "python"
    }
  },
  "nbformat": 4,
  "nbformat_minor": 0
}
