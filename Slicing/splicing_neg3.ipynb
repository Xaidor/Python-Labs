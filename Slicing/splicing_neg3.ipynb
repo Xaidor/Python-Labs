{
  "nbformat": 4,
  "nbformat_minor": 0,
  "metadata": {
    "colab": {
      "provenance": []
    },
    "kernelspec": {
      "name": "python3",
      "display_name": "Python 3"
    },
    "language_info": {
      "name": "python"
    }
  },
  "cells": [
    {
      "cell_type": "code",
      "source": [
        "# Use slicing to write out \"Kaylen is a sweetheart\" from the list text"
      ],
      "metadata": {
        "id": "bn0lpEcPDR_Y"
      },
      "execution_count": null,
      "outputs": []
    },
    {
      "cell_type": "code",
      "source": [
        "text = \"345ftraehteews si nelyaK 83926s\""
      ],
      "metadata": {
        "id": "tpv4bRUay11f"
      },
      "execution_count": 18,
      "outputs": []
    },
    {
      "cell_type": "code",
      "source": [
        "start = -8\n",
        "stop  = 3\n",
        "skip  = -1"
      ],
      "metadata": {
        "id": "xHCwPELuIW0D"
      },
      "execution_count": 56,
      "outputs": []
    },
    {
      "cell_type": "code",
      "source": [
        "text[start:stop:skip]"
      ],
      "metadata": {
        "colab": {
          "base_uri": "https://localhost:8080/",
          "height": 35
        },
        "id": "MnB066fKIcw9",
        "outputId": "84ba60ce-b1b1-4bdb-9508-4afc9eb08700"
      },
      "execution_count": 57,
      "outputs": [
        {
          "output_type": "execute_result",
          "data": {
            "text/plain": [
              "'Kaylen is sweetheart'"
            ],
            "application/vnd.google.colaboratory.intrinsic+json": {
              "type": "string"
            }
          },
          "metadata": {},
          "execution_count": 57
        }
      ]
    }
  ]
}