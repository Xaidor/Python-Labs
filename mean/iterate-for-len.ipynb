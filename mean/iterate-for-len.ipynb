{
  "nbformat": 4,
  "nbformat_minor": 0,
  "metadata": {
    "colab": {
      "provenance": []
    },
    "kernelspec": {
      "name": "python3",
      "display_name": "Python 3"
    },
    "language_info": {
      "name": "python"
    }
  },
  "cells": [
    {
      "cell_type": "markdown",
      "source": [],
      "metadata": {
        "id": "BpJt3yyAmj5B"
      }
    },
    {
      "cell_type": "code",
      "source": [
        "# Compute the mean of var"
      ],
      "metadata": {
        "id": "bn0lpEcPDR_Y"
      },
      "execution_count": null,
      "outputs": []
    },
    {
      "cell_type": "code",
      "source": [
        "var = [10,20,30,20.5,-4]"
      ],
      "metadata": {
        "id": "S-EdRM3edkl5"
      },
      "execution_count": 37,
      "outputs": []
    },
    {
      "cell_type": "code",
      "source": [
        "total_sum = 0"
      ],
      "metadata": {
        "id": "GfdfwS-5jJrS"
      },
      "execution_count": 38,
      "outputs": []
    },
    {
      "cell_type": "code",
      "source": [
        "for a in var:\n",
        "  total_sum += a"
      ],
      "metadata": {
        "id": "W0mXAY2ojP5k"
      },
      "execution_count": 39,
      "outputs": []
    },
    {
      "cell_type": "code",
      "source": [
        "print(total_sum)"
      ],
      "metadata": {
        "colab": {
          "base_uri": "https://localhost:8080/"
        },
        "id": "7s8eUugPjqWp",
        "outputId": "e4e04e65-97d2-4f11-af64-537569a71e1e"
      },
      "execution_count": 40,
      "outputs": [
        {
          "output_type": "stream",
          "name": "stdout",
          "text": [
            "76.5\n"
          ]
        }
      ]
    },
    {
      "cell_type": "code",
      "source": [
        "items = 0"
      ],
      "metadata": {
        "id": "hEI4xhFUlAZ0"
      },
      "execution_count": 41,
      "outputs": []
    },
    {
      "cell_type": "code",
      "source": [
        "for i in var:\n",
        "  if i >= items or i <= items:\n",
        "    items += 1"
      ],
      "metadata": {
        "id": "ZzDtzUU4kxjW"
      },
      "execution_count": 42,
      "outputs": []
    },
    {
      "cell_type": "code",
      "source": [
        "print(items)"
      ],
      "metadata": {
        "colab": {
          "base_uri": "https://localhost:8080/"
        },
        "id": "w5LEYsfulYKu",
        "outputId": "3d98e3c2-a15b-489d-dcc7-860596c92d59"
      },
      "execution_count": 43,
      "outputs": [
        {
          "output_type": "stream",
          "name": "stdout",
          "text": [
            "5\n"
          ]
        }
      ]
    },
    {
      "cell_type": "code",
      "source": [
        "avg = total_sum / items"
      ],
      "metadata": {
        "id": "P1ZR4tKomFbA"
      },
      "execution_count": 44,
      "outputs": []
    },
    {
      "cell_type": "code",
      "source": [
        "print(\"The mean of var is \" + str(avg))"
      ],
      "metadata": {
        "colab": {
          "base_uri": "https://localhost:8080/"
        },
        "id": "tkIvSS11gIoE",
        "outputId": "8b9e85d2-43c7-4598-999b-0b90475ab0e3"
      },
      "execution_count": 45,
      "outputs": [
        {
          "output_type": "stream",
          "name": "stdout",
          "text": [
            "The mean of var is 15.3\n"
          ]
        }
      ]
    }
  ]
}