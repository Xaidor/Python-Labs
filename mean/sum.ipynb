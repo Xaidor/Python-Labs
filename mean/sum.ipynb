{
  "nbformat": 4,
  "nbformat_minor": 0,
  "metadata": {
    "colab": {
      "provenance": []
    },
    "kernelspec": {
      "name": "python3",
      "display_name": "Python 3"
    },
    "language_info": {
      "name": "python"
    }
  },
  "cells": [
    {
      "cell_type": "code",
      "source": [
        "# Compute the mean of var"
      ],
      "metadata": {
        "id": "bn0lpEcPDR_Y"
      },
      "execution_count": null,
      "outputs": []
    },
    {
      "cell_type": "code",
      "source": [
        "var = [10,20,30,20.5]\n",
        "output1 = sum(var)"
      ],
      "metadata": {
        "id": "S-EdRM3edkl5"
      },
      "execution_count": 10,
      "outputs": []
    },
    {
      "cell_type": "code",
      "source": [
        "avg = sum(var) / len(var)"
      ],
      "metadata": {
        "id": "KfC0-9emhTkc"
      },
      "execution_count": 17,
      "outputs": []
    },
    {
      "cell_type": "code",
      "source": [
        "print(\"The mean of var is \" + str(avg))"
      ],
      "metadata": {
        "colab": {
          "base_uri": "https://localhost:8080/"
        },
        "id": "tkIvSS11gIoE",
        "outputId": "cc7c3a11-58bc-4295-ebd5-2884de994b59"
      },
      "execution_count": 19,
      "outputs": [
        {
          "output_type": "stream",
          "name": "stdout",
          "text": [
            "The mean of var is 20.125\n"
          ]
        }
      ]
    }
  ]
}