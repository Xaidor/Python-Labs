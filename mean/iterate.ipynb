{
  "cells": [
    {
      "cell_type": "code",
      "execution_count": null,
      "metadata": {
        "id": "bn0lpEcPDR_Y"
      },
      "outputs": [],
      "source": [
        "# Compute the mean of var"
      ]
    },
    {
      "cell_type": "code",
      "execution_count": 10,
      "metadata": {
        "id": "S-EdRM3edkl5"
      },
      "outputs": [],
      "source": [
        "var = [10,20,30,20.5]"
      ]
    },
    {
      "cell_type": "code",
      "execution_count": 20,
      "metadata": {
        "id": "GfdfwS-5jJrS"
      },
      "outputs": [],
      "source": [
        "total_sum = 0"
      ]
    },
    {
      "cell_type": "code",
      "execution_count": 21,
      "metadata": {
        "id": "W0mXAY2ojP5k"
      },
      "outputs": [],
      "source": [
        "for a in var:\n",
        "  total_sum += a"
      ]
    },
    {
      "cell_type": "code",
      "execution_count": 22,
      "metadata": {
        "colab": {
          "base_uri": "https://localhost:8080/"
        },
        "id": "7s8eUugPjqWp",
        "outputId": "762c68fc-b99d-4918-88b8-0f5dd97ad06f"
      },
      "outputs": [
        {
          "name": "stdout",
          "output_type": "stream",
          "text": [
            "80.5\n"
          ]
        }
      ],
      "source": [
        "print(total_sum)"
      ]
    },
    {
      "cell_type": "code",
      "execution_count": 23,
      "metadata": {
        "id": "KfC0-9emhTkc"
      },
      "outputs": [],
      "source": [
        "avg = total_sum / len(var)"
      ]
    },
    {
      "cell_type": "code",
      "execution_count": 24,
      "metadata": {
        "colab": {
          "base_uri": "https://localhost:8080/"
        },
        "id": "tkIvSS11gIoE",
        "outputId": "52e37a6b-281c-43e5-cecb-0f232f89fac0"
      },
      "outputs": [
        {
          "name": "stdout",
          "output_type": "stream",
          "text": [
            "The mean of var is 20.125\n"
          ]
        }
      ],
      "source": [
        "print(\"The mean of var is \" + str(avg))"
      ]
    }
  ],
  "metadata": {
    "colab": {
      "provenance": []
    },
    "kernelspec": {
      "display_name": "Python 3",
      "name": "python3"
    },
    "language_info": {
      "name": "python"
    }
  },
  "nbformat": 4,
  "nbformat_minor": 0
}
