{
  "nbformat": 4,
  "nbformat_minor": 0,
  "metadata": {
    "colab": {
      "provenance": []
    },
    "kernelspec": {
      "name": "python3",
      "display_name": "Python 3"
    },
    "language_info": {
      "name": "python"
    }
  },
  "cells": [
    {
      "cell_type": "code",
      "execution_count": null,
      "metadata": {
        "id": "lDt59FZj64zL"
      },
      "outputs": [],
      "source": [
        "# Get the attribute of Penguin from this list"
      ]
    },
    {
      "cell_type": "code",
      "source": [
        "listlist = [ 4,\"hi\",[5,4,3],\"yo\",{\"Squirrel\":\"cute\",\"Penguin\":\"Yummy\"} ]"
      ],
      "metadata": {
        "id": "gQSWDfAq7I7l"
      },
      "execution_count": 1,
      "outputs": []
    },
    {
      "cell_type": "code",
      "source": [
        "tmp = listlist[4]\n",
        "tmp[\"Penguin\"]"
      ],
      "metadata": {
        "colab": {
          "base_uri": "https://localhost:8080/",
          "height": 35
        },
        "id": "-I39JNpf7m1H",
        "outputId": "2fb065c4-7d7d-4165-ab7c-3c78fc515160"
      },
      "execution_count": 2,
      "outputs": [
        {
          "output_type": "execute_result",
          "data": {
            "text/plain": [
              "'Yummy'"
            ],
            "application/vnd.google.colaboratory.intrinsic+json": {
              "type": "string"
            }
          },
          "metadata": {},
          "execution_count": 2
        }
      ]
    }
  ]
}