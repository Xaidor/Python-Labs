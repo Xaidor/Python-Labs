{
  "nbformat": 4,
  "nbformat_minor": 0,
  "metadata": {
    "colab": {
      "provenance": []
    },
    "kernelspec": {
      "name": "python3",
      "display_name": "Python 3"
    },
    "language_info": {
      "name": "python"
    }
  },
  "cells": [
    {
      "cell_type": "code",
      "execution_count": null,
      "metadata": {
        "id": "lDt59FZj64zL"
      },
      "outputs": [],
      "source": [
        "# Get the attribute of Penguin from this list"
      ]
    },
    {
      "cell_type": "code",
      "source": [
        "listlist = [ 4,\"hi\",[5,4,3],\"yo\",{\"Squirrel\":\"cute\",\"Penguin\":\"Yummy\"} ]"
      ],
      "metadata": {
        "id": "gQSWDfAq7I7l"
      },
      "execution_count": 1,
      "outputs": []
    },
    {
      "cell_type": "code",
      "source": [
        "listlist[4][\"Penguin\"]"
      ],
      "metadata": {
        "colab": {
          "base_uri": "https://localhost:8080/",
          "height": 35
        },
        "id": "dct9zwb08W1_",
        "outputId": "f2d6cfc9-e836-458e-ebd9-9538d355dfd4"
      },
      "execution_count": 3,
      "outputs": [
        {
          "output_type": "execute_result",
          "data": {
            "text/plain": [
              "'Yummy'"
            ],
            "application/vnd.google.colaboratory.intrinsic+json": {
              "type": "string"
            }
          },
          "metadata": {},
          "execution_count": 3
        }
      ]
    }
  ]
}