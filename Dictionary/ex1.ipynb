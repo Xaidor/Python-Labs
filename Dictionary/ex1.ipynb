{
  "nbformat": 4,
  "nbformat_minor": 0,
  "metadata": {
    "colab": {
      "provenance": []
    },
    "kernelspec": {
      "name": "python3",
      "display_name": "Python 3"
    },
    "language_info": {
      "name": "python"
    }
  },
  "cells": [
    {
      "cell_type": "code",
      "source": [
        "# Get/add 2 numbers to add inside a dictionary\n",
        "# Have the 2 numbers creat a value for a new key named product"
      ],
      "metadata": {
        "id": "tpv4bRUay11f"
      },
      "execution_count": null,
      "outputs": []
    },
    {
      "cell_type": "code",
      "execution_count": 2,
      "metadata": {
        "id": "yOXmPeeXv8Hp"
      },
      "outputs": [],
      "source": [
        "D = dict()"
      ]
    },
    {
      "cell_type": "code",
      "source": [
        "D[\"Num1\"] = float(input(\"Give me a number: \"))\n",
        "D[\"Num2\"] = float(input(\"Give me another number please: \"))"
      ],
      "metadata": {
        "colab": {
          "base_uri": "https://localhost:8080/"
        },
        "id": "3dd17eIdwEJx",
        "outputId": "ed4d41f4-66ff-42c6-ae1d-d9c04775bb57"
      },
      "execution_count": 11,
      "outputs": [
        {
          "name": "stdout",
          "output_type": "stream",
          "text": [
            "Give me a number: 3\n",
            "Give me another number please: 7\n"
          ]
        }
      ]
    },
    {
      "cell_type": "code",
      "source": [
        "D.items()"
      ],
      "metadata": {
        "id": "TYRNQxlRxKIT"
      },
      "execution_count": null,
      "outputs": []
    },
    {
      "cell_type": "code",
      "source": [
        "D[\"Product\"] = D['Num1'] * D['Num2']"
      ],
      "metadata": {
        "id": "xoS4yXIZxfjk"
      },
      "execution_count": 13,
      "outputs": []
    },
    {
      "cell_type": "code",
      "source": [
        "D.items()"
      ],
      "metadata": {
        "colab": {
          "base_uri": "https://localhost:8080/"
        },
        "id": "QDOyAncGyZ0q",
        "outputId": "a425d349-524f-4781-f130-3129accdbfc2"
      },
      "execution_count": 14,
      "outputs": [
        {
          "output_type": "execute_result",
          "data": {
            "text/plain": [
              "dict_items([('Num1', 3.0), ('Num2', 7.0), ('Product', 21.0)])"
            ]
          },
          "metadata": {},
          "execution_count": 14
        }
      ]
    }
  ]
}