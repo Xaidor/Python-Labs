{
  "nbformat": 4,
  "nbformat_minor": 0,
  "metadata": {
    "colab": {
      "provenance": []
    },
    "kernelspec": {
      "name": "python3",
      "display_name": "Python 3"
    },
    "language_info": {
      "name": "python"
    }
  },
  "cells": [
    {
      "cell_type": "markdown",
      "source": [],
      "metadata": {
        "id": "BpJt3yyAmj5B"
      }
    },
    {
      "cell_type": "code",
      "source": [
        "# Example 3\n",
        "# Create a dictionary using zip"
      ],
      "metadata": {
        "id": "Nsa9PxXzK-2H"
      },
      "execution_count": 1,
      "outputs": []
    },
    {
      "cell_type": "code",
      "source": [
        "names =[\"alpha\", \"beta\", \"gama\"]\n",
        "values = [10,20,30]"
      ],
      "metadata": {
        "id": "w1xsOmuhOfZS"
      },
      "execution_count": 11,
      "outputs": []
    },
    {
      "cell_type": "code",
      "source": [
        "mydict = dict(zip(names,values))\n",
        "mydict"
      ],
      "metadata": {
        "colab": {
          "base_uri": "https://localhost:8080/"
        },
        "id": "ju_w0k3UOz4x",
        "outputId": "2159c98f-2468-4f6b-dac4-6f92a6ac3323"
      },
      "execution_count": 14,
      "outputs": [
        {
          "output_type": "execute_result",
          "data": {
            "text/plain": [
              "{'alpha': 10, 'beta': 20, 'gama': 30}"
            ]
          },
          "metadata": {},
          "execution_count": 14
        }
      ]
    }
  ]
}