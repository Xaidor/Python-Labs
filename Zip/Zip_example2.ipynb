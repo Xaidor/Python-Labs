{
  "nbformat": 4,
  "nbformat_minor": 0,
  "metadata": {
    "colab": {
      "provenance": []
    },
    "kernelspec": {
      "name": "python3",
      "display_name": "Python 3"
    },
    "language_info": {
      "name": "python"
    }
  },
  "cells": [
    {
      "cell_type": "markdown",
      "source": [],
      "metadata": {
        "id": "BpJt3yyAmj5B"
      }
    },
    {
      "cell_type": "code",
      "source": [
        "# Example 2\n",
        "# Create a dictionary using zip"
      ],
      "metadata": {
        "id": "Nsa9PxXzK-2H"
      },
      "execution_count": 1,
      "outputs": []
    },
    {
      "cell_type": "code",
      "source": [
        "names =[\"alpha\", \"beta\", \"gama\"]\n",
        "values = [10,20,30]"
      ],
      "metadata": {
        "id": "w1xsOmuhOfZS"
      },
      "execution_count": 11,
      "outputs": []
    },
    {
      "cell_type": "code",
      "source": [
        "for n,v in zip(names,values):\n",
        "  mydict = dict()\n",
        "  mydict[n] = v\n",
        "\n",
        "  print(mydict)"
      ],
      "metadata": {
        "colab": {
          "base_uri": "https://localhost:8080/"
        },
        "id": "ju_w0k3UOz4x",
        "outputId": "dbae9f07-7d36-4c6c-e2f6-c962f9bf8c9d"
      },
      "execution_count": 12,
      "outputs": [
        {
          "output_type": "stream",
          "name": "stdout",
          "text": [
            "{'alpha': 10}\n",
            "{'beta': 20}\n",
            "{'gama': 30}\n"
          ]
        }
      ]
    }
  ]
}