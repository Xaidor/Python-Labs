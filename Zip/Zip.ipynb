{
  "nbformat": 4,
  "nbformat_minor": 0,
  "metadata": {
    "colab": {
      "provenance": []
    },
    "kernelspec": {
      "name": "python3",
      "display_name": "Python 3"
    },
    "language_info": {
      "name": "python"
    }
  },
  "cells": [
    {
      "cell_type": "markdown",
      "source": [],
      "metadata": {
        "id": "BpJt3yyAmj5B"
      }
    },
    {
      "cell_type": "code",
      "source": [
        "# Create a dictionary using zip"
      ],
      "metadata": {
        "id": "Nsa9PxXzK-2H"
      },
      "execution_count": 1,
      "outputs": []
    },
    {
      "cell_type": "code",
      "source": [
        "listA = [3,4,5,6,3,-17]\n",
        "listB = [\"q\",\"w\",\"e\",\"r\",\"t\",\"y\"]"
      ],
      "metadata": {
        "id": "w1xsOmuhOfZS"
      },
      "execution_count": 9,
      "outputs": []
    },
    {
      "cell_type": "code",
      "source": [
        "for a,b in zip(listA,listB):\n",
        "  mydict = dict()\n",
        "  mydict[a] = b\n",
        "\n",
        "  print(mydict)"
      ],
      "metadata": {
        "colab": {
          "base_uri": "https://localhost:8080/"
        },
        "id": "ju_w0k3UOz4x",
        "outputId": "7b3eec4c-aeb0-42f8-8b2b-e2c72f448d39"
      },
      "execution_count": 10,
      "outputs": [
        {
          "output_type": "stream",
          "name": "stdout",
          "text": [
            "{3: 'q'}\n",
            "{4: 'w'}\n",
            "{5: 'e'}\n",
            "{6: 'r'}\n",
            "{3: 't'}\n",
            "{-17: 'y'}\n"
          ]
        }
      ]
    }
  ]
}